{
 "cells": [
  {
   "cell_type": "code",
   "execution_count": 1,
   "metadata": {},
   "outputs": [],
   "source": [
    "# run my code\n",
    "%run megatron_ak.ipynb"
   ]
  },
  {
   "cell_type": "markdown",
   "metadata": {},
   "source": [
    "### Read in Data"
   ]
  },
  {
   "cell_type": "code",
   "execution_count": 2,
   "metadata": {},
   "outputs": [
    {
     "name": "stdout",
     "output_type": "stream",
     "text": [
      "Number of cells:  3221\n",
      "Number of clones:  365\n",
      "Number of dimensions:  2\n",
      "Time Steps:  [2. 4. 6.]\n"
     ]
    }
   ],
   "source": [
    "datadir = '../../preprocess/kleinlab/output_subset/'\n",
    "cellid_to_idx, cloneid_to_idx, clonegrouping_spmtx, coords_mtx, time_vec = readin(datadir)"
   ]
  },
  {
   "cell_type": "markdown",
   "metadata": {},
   "source": [
    "## Trials"
   ]
  },
  {
   "cell_type": "code",
   "execution_count": 3,
   "metadata": {},
   "outputs": [],
   "source": [
    "from scipy.cluster.hierarchy import dendrogram, linkage, fcluster\n",
    "from sklearn.metrics.cluster import adjusted_rand_score\n",
    "df_truth = pd.read_csv(os.path.join(datadir,'./clones_truth.tsv.gz'),sep='\\t',index_col=0)\n",
    "#linkage_options = ['complete', 'ward', 'average', 'weighted', 'centroid', 'median']\n",
    "linkage_options = ['ward']\n",
    "cluster_options = ['maxclust']"
   ]
  },
  {
   "cell_type": "markdown",
   "metadata": {},
   "source": [
    "### Wasserstein Trials"
   ]
  },
  {
   "cell_type": "code",
   "execution_count": 7,
   "metadata": {},
   "outputs": [
    {
     "name": "stdout",
     "output_type": "stream",
     "text": [
      "Out of 66430 clonal distances, 0 are noninformative\n",
      "Out of 66430 clonal distances, 0 are noninformative\n"
     ]
    }
   ],
   "source": [
    "dist_options = ['wasserstein', 'energy']\n",
    "\n",
    "wass_score_dict = {}\n",
    "for do in dist_options:\n",
    "    condensed_dist_mat = getdistance_wasserstein(clonegrouping_spmtx, coords_mtx, time_vec, choice=do)\n",
    "    for lo in linkage_options:\n",
    "        Z = linkage(condensed_dist_mat, lo)\n",
    "        for co in cluster_options:\n",
    "            clone_clusters = fcluster(Z, 5, criterion=co)\n",
    "            score = adjusted_rand_score(df_truth['celltype'].tolist(), clone_clusters.tolist())\n",
    "            wass_score_dict[(do, lo, co)]=score"
   ]
  },
  {
   "cell_type": "code",
   "execution_count": 10,
   "metadata": {},
   "outputs": [
    {
     "name": "stdout",
     "output_type": "stream",
     "text": [
      "('energy', 'ward', 'maxclust') \t\t 0.7899530119959177\n",
      "('wasserstein', 'ward', 'maxclust') \t\t 0.7885719124781362\n",
      "('wasserstein', 'median', 'maxclust') \t\t 0.7616486910947495\n",
      "('energy', 'average', 'maxclust') \t\t 0.7502881477816572\n",
      "('energy', 'weighted', 'maxclust') \t\t 0.7412519902286092\n",
      "('wasserstein', 'centroid', 'maxclust') \t\t 0.7294044632136572\n",
      "('energy', 'complete', 'maxclust') \t\t 0.7289260391327324\n",
      "('wasserstein', 'average', 'maxclust') \t\t 0.7105797278643441\n",
      "('wasserstein', 'complete', 'maxclust') \t\t 0.6990144268531757\n",
      "('wasserstein', 'weighted', 'maxclust') \t\t 0.5355769532850246\n",
      "('energy', 'median', 'maxclust') \t\t 0.5007467235162486\n",
      "('energy', 'centroid', 'maxclust') \t\t 0.47804527941231256\n",
      "('energy', 'single', 'maxclust') \t\t 0.18600624102198973\n",
      "('wasserstein', 'single', 'maxclust') \t\t -0.0034818974557002946\n"
     ]
    }
   ],
   "source": [
    "listofTuples = sorted(wass_score_dict.items() , reverse=True, key=lambda x: x[1])\n",
    "for elem in listofTuples :\n",
    "    print(elem[0] , \"\\t\\t\" , elem[1] )"
   ]
  },
  {
   "cell_type": "markdown",
   "metadata": {},
   "source": [
    "### MNN Trials - Radius Graph"
   ]
  },
  {
   "cell_type": "code",
   "execution_count": 6,
   "metadata": {},
   "outputs": [
    {
     "name": "stdout",
     "output_type": "stream",
     "text": [
      "(100, 'distance', 'ward', 'maxclust') \t 0.01812479115635514\n",
      "(100, 'connectivity', 'ward', 'maxclust') \t 0.0085998029590482\n",
      "(130, 'distance', 'ward', 'maxclust') \t 0.039539259332314294\n",
      "(130, 'connectivity', 'ward', 'maxclust') \t 0.0013159239912256615\n"
     ]
    },
    {
     "ename": "KeyboardInterrupt",
     "evalue": "",
     "output_type": "error",
     "traceback": [
      "\u001b[0;31m---------------------------------------------------------------------------\u001b[0m",
      "\u001b[0;31mKeyboardInterrupt\u001b[0m                         Traceback (most recent call last)",
      "\u001b[0;32m<ipython-input-6-1d01301ae3fc>\u001b[0m in \u001b[0;36m<module>\u001b[0;34m\u001b[0m\n\u001b[1;32m     14\u001b[0m         \u001b[0mclonegrouping_spmtx\u001b[0m\u001b[0;34m,\u001b[0m \u001b[0mcoords_mtx\u001b[0m\u001b[0;34m,\u001b[0m \u001b[0mtime_vec\u001b[0m\u001b[0;34m,\u001b[0m\u001b[0;34m\u001b[0m\u001b[0;34m\u001b[0m\u001b[0m\n\u001b[1;32m     15\u001b[0m         \u001b[0mdist\u001b[0m\u001b[0;34m=\u001b[0m\u001b[0;34m\"radius\"\u001b[0m\u001b[0;34m,\u001b[0m \u001b[0mradius\u001b[0m\u001b[0;34m=\u001b[0m\u001b[0mro\u001b[0m\u001b[0;34m,\u001b[0m \u001b[0mmode\u001b[0m\u001b[0;34m=\u001b[0m\u001b[0mmo\u001b[0m\u001b[0;34m,\u001b[0m\u001b[0;34m\u001b[0m\u001b[0;34m\u001b[0m\u001b[0m\n\u001b[0;32m---> 16\u001b[0;31m         slope = 1, xshift = 1)\n\u001b[0m\u001b[1;32m     17\u001b[0m         \u001b[0;32mfor\u001b[0m \u001b[0mlo\u001b[0m \u001b[0;32min\u001b[0m \u001b[0mlinkage_options\u001b[0m\u001b[0;34m:\u001b[0m\u001b[0;34m\u001b[0m\u001b[0;34m\u001b[0m\u001b[0m\n\u001b[1;32m     18\u001b[0m             \u001b[0mZ\u001b[0m \u001b[0;34m=\u001b[0m \u001b[0mlinkage\u001b[0m\u001b[0;34m(\u001b[0m\u001b[0mcondensed_dist_mat\u001b[0m\u001b[0;34m,\u001b[0m \u001b[0mlo\u001b[0m\u001b[0;34m)\u001b[0m\u001b[0;34m\u001b[0m\u001b[0;34m\u001b[0m\u001b[0m\n",
      "\u001b[0;32m<ipython-input-6-9d1522f15ced>\u001b[0m in \u001b[0;36mgetdistance_mnn\u001b[0;34m(clonegrouping_spmtx, coords_mtx, time_vec, dist, radius, neighbors, mode, slope, xshift)\u001b[0m\n\u001b[1;32m     78\u001b[0m \u001b[0;34m\u001b[0m\u001b[0m\n\u001b[1;32m     79\u001b[0m \u001b[0;34m\u001b[0m\u001b[0m\n\u001b[0;32m---> 80\u001b[0;31m                 \u001b[0mts_j_neighbors\u001b[0m \u001b[0;34m=\u001b[0m \u001b[0mcoords\u001b[0m\u001b[0;34m[\u001b[0m\u001b[0;34m(\u001b[0m\u001b[0mnp\u001b[0m\u001b[0;34m.\u001b[0m\u001b[0misin\u001b[0m\u001b[0;34m(\u001b[0m\u001b[0mcoords\u001b[0m\u001b[0;34m,\u001b[0m \u001b[0mts_j\u001b[0m\u001b[0;34m)\u001b[0m\u001b[0;34m[\u001b[0m\u001b[0;34m:\u001b[0m\u001b[0;34m,\u001b[0m\u001b[0;36m0\u001b[0m\u001b[0;34m]\u001b[0m \u001b[0;34m==\u001b[0m \u001b[0;32mTrue\u001b[0m\u001b[0;34m)\u001b[0m\u001b[0;34m]\u001b[0m\u001b[0;34m\u001b[0m\u001b[0;34m\u001b[0m\u001b[0m\n\u001b[0m\u001b[1;32m     81\u001b[0m                 \u001b[0;31m#print(\"neighbors of ts_j\")\u001b[0m\u001b[0;34m\u001b[0m\u001b[0;34m\u001b[0m\u001b[0;34m\u001b[0m\u001b[0m\n\u001b[1;32m     82\u001b[0m                 \u001b[0;31m#print(ts_j_neighbors)\u001b[0m\u001b[0;34m\u001b[0m\u001b[0;34m\u001b[0m\u001b[0;34m\u001b[0m\u001b[0m\n",
      "\u001b[0;31mKeyboardInterrupt\u001b[0m: "
     ]
    }
   ],
   "source": [
    "# run my code\n",
    "%run megatron_ak.ipynb\n",
    "r_options = [x for x in range(100, 570, 30)]\n",
    "mode_options = [\"distance\", \"connectivity\"]\n",
    "slope_options = [x for x in range(1, 3)]\n",
    "xshift_options = [x for x in range(1, 10)]\n",
    "\n",
    "mnn_r_score_dict = {}\n",
    "for ro in r_options:\n",
    "    for mo in mode_options:\n",
    "        #for so in slope_options:\n",
    "            #for xo in xshift_options:\n",
    "        condensed_dist_mat = getdistance_mnn(\n",
    "        clonegrouping_spmtx, coords_mtx, time_vec, \n",
    "        dist=\"radius\", radius=ro, mode=mo, \n",
    "        slope = 1, xshift = 1)\n",
    "        for lo in linkage_options:\n",
    "            Z = linkage(condensed_dist_mat, lo)\n",
    "            for co in cluster_options:\n",
    "                clone_clusters = fcluster(Z, 5, criterion=co)\n",
    "                score = adjusted_rand_score(df_truth['celltype'].tolist(), clone_clusters.tolist())\n",
    "                mnn_r_score_dict[(ro, mo, lo, co)]=score\n",
    "                print((ro, mo, lo, co), \"\\t\", score)"
   ]
  },
  {
   "cell_type": "code",
   "execution_count": null,
   "metadata": {},
   "outputs": [],
   "source": [
    "# run my code\n",
    "%run megatron_ak.ipynb\n",
    "r_options = [x for x in range(100, 570, 30)]\n",
    "mode_options = [\"distance\", \"connectivity\"]\n",
    "slope_options = [x for x in range(1, 3)]\n",
    "xshift_options = [x for x in range(1, 10)]\n",
    "\n",
    "mnn_r_score_dict = {}\n",
    "for ro in r_options:\n",
    "    for mo in mode_options:\n",
    "        #for so in slope_options:\n",
    "            #for xo in xshift_options:\n",
    "        condensed_dist_mat = getdistance_mnn(\n",
    "        clonegrouping_spmtx, coords_mtx, time_vec, \n",
    "        dist=\"radius\", radius=ro, mode=mo, \n",
    "        slope = 1, xshift = 1)\n",
    "        for lo in linkage_options:\n",
    "            Z = linkage(condensed_dist_mat, lo)\n",
    "            for co in cluster_options:\n",
    "                clone_clusters = fcluster(Z, 5, criterion=co)\n",
    "                score = adjusted_rand_score(df_truth['celltype'].tolist(), clone_clusters.tolist())\n",
    "                mnn_r_score_dict[(ro, mo, lo, co)]=score\n",
    "                print((ro, mo, lo, co), \"\\t\", score)"
   ]
  },
  {
   "cell_type": "code",
   "execution_count": null,
   "metadata": {},
   "outputs": [],
   "source": [
    "listofTuples = sorted(mnn_r_score_dict.items() , reverse=True, key=lambda x: x[1])\n",
    "for elem in listofTuples :\n",
    "    print(elem[0] , \"\\t\\t\" , elem[1] )"
   ]
  },
  {
   "cell_type": "markdown",
   "metadata": {},
   "source": [
    "### MNN Trials - KNN Graph"
   ]
  },
  {
   "cell_type": "code",
   "execution_count": 4,
   "metadata": {
    "scrolled": true
   },
   "outputs": [
    {
     "name": "stdout",
     "output_type": "stream",
     "text": [
      "(350, 'connectivity', 'ward', 'maxclust') \t 0.39069940300884487\n",
      "(400, 'connectivity', 'ward', 'maxclust') \t 0.41058581088603674\n",
      "(450, 'connectivity', 'ward', 'maxclust') \t 0.11549967340088849\n"
     ]
    }
   ],
   "source": [
    "k_options = [x for x in range(350, 500, 50)]\n",
    "#mode_options = [\"distance\", \"connectivity\"]\n",
    "mode_options = [\"connectivity\"]\n",
    "slope_options = [x for x in range(1, 3)]\n",
    "xshift_options = [x for x in range(1, 10)]\n",
    "\n",
    "mnn_k_score_dict = {}\n",
    "for ko in k_options:\n",
    "    for mo in mode_options:\n",
    "        #for so in slope_options:\n",
    "            #for xo in xshift_options:\n",
    "        condensed_dist_mat = getdistance_mnn(\n",
    "            clonegrouping_spmtx, coords_mtx, time_vec, \n",
    "            dist=\"kneighbors\", neighbors=ko, mode=mo, \n",
    "            slope = 1, xshift = 1)\n",
    "        for lo in linkage_options:\n",
    "            Z = linkage(condensed_dist_mat, lo)\n",
    "            for co in cluster_options:\n",
    "                clone_clusters = fcluster(Z, 5, criterion=co)\n",
    "                score = adjusted_rand_score(df_truth['celltype'].tolist(), clone_clusters.tolist())\n",
    "                mnn_k_score_dict[(ko, mo, lo, co)]=score\n",
    "                print((ko,mo,lo,co),\"\\t\",score)"
   ]
  },
  {
   "cell_type": "code",
   "execution_count": 8,
   "metadata": {
    "scrolled": true
   },
   "outputs": [
    {
     "name": "stdout",
     "output_type": "stream",
     "text": [
      "(350, 'connectivity', 'ward', 'maxclust') \t 0.39069940300884487\n"
     ]
    },
    {
     "ename": "KeyboardInterrupt",
     "evalue": "",
     "output_type": "error",
     "traceback": [
      "\u001b[0;31m---------------------------------------------------------------------------\u001b[0m",
      "\u001b[0;31mKeyboardInterrupt\u001b[0m                         Traceback (most recent call last)",
      "\u001b[0;32m<ipython-input-8-0c642126bf6d>\u001b[0m in \u001b[0;36m<module>\u001b[0;34m\u001b[0m\n\u001b[1;32m     13\u001b[0m             \u001b[0mclonegrouping_spmtx\u001b[0m\u001b[0;34m,\u001b[0m \u001b[0mcoords_mtx\u001b[0m\u001b[0;34m,\u001b[0m \u001b[0mtime_vec\u001b[0m\u001b[0;34m,\u001b[0m\u001b[0;34m\u001b[0m\u001b[0;34m\u001b[0m\u001b[0m\n\u001b[1;32m     14\u001b[0m             \u001b[0mdist\u001b[0m\u001b[0;34m=\u001b[0m\u001b[0;34m\"kneighbors\"\u001b[0m\u001b[0;34m,\u001b[0m \u001b[0mneighbors\u001b[0m\u001b[0;34m=\u001b[0m\u001b[0mko\u001b[0m\u001b[0;34m,\u001b[0m \u001b[0mmode\u001b[0m\u001b[0;34m=\u001b[0m\u001b[0mmo\u001b[0m\u001b[0;34m,\u001b[0m\u001b[0;34m\u001b[0m\u001b[0;34m\u001b[0m\u001b[0m\n\u001b[0;32m---> 15\u001b[0;31m             slope = 1, xshift = 1)\n\u001b[0m\u001b[1;32m     16\u001b[0m         \u001b[0;32mfor\u001b[0m \u001b[0mlo\u001b[0m \u001b[0;32min\u001b[0m \u001b[0mlinkage_options\u001b[0m\u001b[0;34m:\u001b[0m\u001b[0;34m\u001b[0m\u001b[0;34m\u001b[0m\u001b[0m\n\u001b[1;32m     17\u001b[0m             \u001b[0mZ\u001b[0m \u001b[0;34m=\u001b[0m \u001b[0mlinkage\u001b[0m\u001b[0;34m(\u001b[0m\u001b[0mcondensed_dist_mat\u001b[0m\u001b[0;34m,\u001b[0m \u001b[0mlo\u001b[0m\u001b[0;34m)\u001b[0m\u001b[0;34m\u001b[0m\u001b[0;34m\u001b[0m\u001b[0m\n",
      "\u001b[0;32m<ipython-input-6-9d1522f15ced>\u001b[0m in \u001b[0;36mgetdistance_mnn\u001b[0;34m(clonegrouping_spmtx, coords_mtx, time_vec, dist, radius, neighbors, mode, slope, xshift)\u001b[0m\n\u001b[1;32m    100\u001b[0m \u001b[0;34m\u001b[0m\u001b[0m\n\u001b[1;32m    101\u001b[0m                 \u001b[0mts_i_neighbors_in_j\u001b[0m \u001b[0;34m=\u001b[0m \u001b[0mts_i_neighbors\u001b[0m\u001b[0;34m[\u001b[0m\u001b[0;34m(\u001b[0m\u001b[0mnp\u001b[0m\u001b[0;34m.\u001b[0m\u001b[0misin\u001b[0m\u001b[0;34m(\u001b[0m\u001b[0mts_i_neighbors\u001b[0m\u001b[0;34m,\u001b[0m \u001b[0mcells_in_j\u001b[0m\u001b[0;34m)\u001b[0m\u001b[0;34m[\u001b[0m\u001b[0;34m:\u001b[0m\u001b[0;34m,\u001b[0m\u001b[0;36m1\u001b[0m\u001b[0;34m]\u001b[0m \u001b[0;34m==\u001b[0m \u001b[0;32mTrue\u001b[0m\u001b[0;34m)\u001b[0m\u001b[0;34m]\u001b[0m\u001b[0;34m\u001b[0m\u001b[0;34m\u001b[0m\u001b[0m\n\u001b[0;32m--> 102\u001b[0;31m                 \u001b[0mtotal_ts_i_neighbors_in_j\u001b[0m \u001b[0;34m=\u001b[0m \u001b[0mrng\u001b[0m\u001b[0;34m[\u001b[0m\u001b[0mts_i_neighbors_in_j\u001b[0m\u001b[0;34m[\u001b[0m\u001b[0;34m:\u001b[0m\u001b[0;34m,\u001b[0m\u001b[0;36m0\u001b[0m\u001b[0;34m]\u001b[0m\u001b[0;34m,\u001b[0m\u001b[0mts_i_neighbors_in_j\u001b[0m\u001b[0;34m[\u001b[0m\u001b[0;34m:\u001b[0m\u001b[0;34m,\u001b[0m\u001b[0;36m1\u001b[0m\u001b[0;34m]\u001b[0m\u001b[0;34m]\u001b[0m\u001b[0;34m.\u001b[0m\u001b[0msum\u001b[0m\u001b[0;34m(\u001b[0m\u001b[0;34m)\u001b[0m\u001b[0;34m\u001b[0m\u001b[0;34m\u001b[0m\u001b[0m\n\u001b[0m\u001b[1;32m    103\u001b[0m \u001b[0;34m\u001b[0m\u001b[0m\n\u001b[1;32m    104\u001b[0m                 \u001b[0mts_j_neighbors_in_i\u001b[0m \u001b[0;34m=\u001b[0m \u001b[0mts_j_neighbors\u001b[0m\u001b[0;34m[\u001b[0m\u001b[0;34m(\u001b[0m\u001b[0mnp\u001b[0m\u001b[0;34m.\u001b[0m\u001b[0misin\u001b[0m\u001b[0;34m(\u001b[0m\u001b[0mts_j_neighbors\u001b[0m\u001b[0;34m,\u001b[0m \u001b[0mcells_in_i\u001b[0m\u001b[0;34m)\u001b[0m\u001b[0;34m[\u001b[0m\u001b[0;34m:\u001b[0m\u001b[0;34m,\u001b[0m\u001b[0;36m1\u001b[0m\u001b[0;34m]\u001b[0m \u001b[0;34m==\u001b[0m \u001b[0;32mTrue\u001b[0m\u001b[0;34m)\u001b[0m\u001b[0;34m]\u001b[0m\u001b[0;34m\u001b[0m\u001b[0;34m\u001b[0m\u001b[0m\n",
      "\u001b[0;32m~/.anaconda/lib/python3.7/site-packages/scipy/sparse/base.py\u001b[0m in \u001b[0;36msum\u001b[0;34m(self, axis, dtype, out)\u001b[0m\n\u001b[1;32m   1004\u001b[0m             \u001b[0;31m# sum over rows and columns\u001b[0m\u001b[0;34m\u001b[0m\u001b[0;34m\u001b[0m\u001b[0;34m\u001b[0m\u001b[0m\n\u001b[1;32m   1005\u001b[0m             return (self * asmatrix(np.ones(\n\u001b[0;32m-> 1006\u001b[0;31m                 (n, 1), dtype=res_dtype))).sum(\n\u001b[0m\u001b[1;32m   1007\u001b[0m                 dtype=dtype, out=out)\n\u001b[1;32m   1008\u001b[0m \u001b[0;34m\u001b[0m\u001b[0m\n",
      "\u001b[0;32m~/.anaconda/lib/python3.7/site-packages/scipy/sparse/base.py\u001b[0m in \u001b[0;36m__mul__\u001b[0;34m(self, other)\u001b[0m\n\u001b[1;32m    475\u001b[0m                 \u001b[0;32mreturn\u001b[0m \u001b[0mself\u001b[0m\u001b[0;34m.\u001b[0m\u001b[0m_mul_multivector\u001b[0m\u001b[0;34m(\u001b[0m\u001b[0mother\u001b[0m\u001b[0;34m)\u001b[0m\u001b[0;34m\u001b[0m\u001b[0;34m\u001b[0m\u001b[0m\n\u001b[1;32m    476\u001b[0m \u001b[0;34m\u001b[0m\u001b[0m\n\u001b[0;32m--> 477\u001b[0;31m         \u001b[0;32mif\u001b[0m \u001b[0misscalarlike\u001b[0m\u001b[0;34m(\u001b[0m\u001b[0mother\u001b[0m\u001b[0;34m)\u001b[0m\u001b[0;34m:\u001b[0m\u001b[0;34m\u001b[0m\u001b[0;34m\u001b[0m\u001b[0m\n\u001b[0m\u001b[1;32m    478\u001b[0m             \u001b[0;31m# scalar value\u001b[0m\u001b[0;34m\u001b[0m\u001b[0;34m\u001b[0m\u001b[0;34m\u001b[0m\u001b[0m\n\u001b[1;32m    479\u001b[0m             \u001b[0;32mreturn\u001b[0m \u001b[0mself\u001b[0m\u001b[0;34m.\u001b[0m\u001b[0m_mul_scalar\u001b[0m\u001b[0;34m(\u001b[0m\u001b[0mother\u001b[0m\u001b[0;34m)\u001b[0m\u001b[0;34m\u001b[0m\u001b[0;34m\u001b[0m\u001b[0m\n",
      "\u001b[0;32m~/.anaconda/lib/python3.7/site-packages/scipy/sparse/sputils.py\u001b[0m in \u001b[0;36misscalarlike\u001b[0;34m(x)\u001b[0m\n\u001b[1;32m    183\u001b[0m \u001b[0;32mdef\u001b[0m \u001b[0misscalarlike\u001b[0m\u001b[0;34m(\u001b[0m\u001b[0mx\u001b[0m\u001b[0;34m)\u001b[0m\u001b[0;34m:\u001b[0m\u001b[0;34m\u001b[0m\u001b[0;34m\u001b[0m\u001b[0m\n\u001b[1;32m    184\u001b[0m     \u001b[0;34m\"\"\"Is x either a scalar, an array scalar, or a 0-dim array?\"\"\"\u001b[0m\u001b[0;34m\u001b[0m\u001b[0;34m\u001b[0m\u001b[0m\n\u001b[0;32m--> 185\u001b[0;31m     \u001b[0;32mreturn\u001b[0m \u001b[0mnp\u001b[0m\u001b[0;34m.\u001b[0m\u001b[0misscalar\u001b[0m\u001b[0;34m(\u001b[0m\u001b[0mx\u001b[0m\u001b[0;34m)\u001b[0m \u001b[0;32mor\u001b[0m \u001b[0;34m(\u001b[0m\u001b[0misdense\u001b[0m\u001b[0;34m(\u001b[0m\u001b[0mx\u001b[0m\u001b[0;34m)\u001b[0m \u001b[0;32mand\u001b[0m \u001b[0mx\u001b[0m\u001b[0;34m.\u001b[0m\u001b[0mndim\u001b[0m \u001b[0;34m==\u001b[0m \u001b[0;36m0\u001b[0m\u001b[0;34m)\u001b[0m\u001b[0;34m\u001b[0m\u001b[0;34m\u001b[0m\u001b[0m\n\u001b[0m\u001b[1;32m    186\u001b[0m \u001b[0;34m\u001b[0m\u001b[0m\n\u001b[1;32m    187\u001b[0m \u001b[0;34m\u001b[0m\u001b[0m\n",
      "\u001b[0;32m~/.anaconda/lib/python3.7/site-packages/numpy/core/numeric.py\u001b[0m in \u001b[0;36misscalar\u001b[0;34m(element)\u001b[0m\n\u001b[1;32m   1862\u001b[0m     return (isinstance(element, generic)\n\u001b[1;32m   1863\u001b[0m             \u001b[0;32mor\u001b[0m \u001b[0mtype\u001b[0m\u001b[0;34m(\u001b[0m\u001b[0melement\u001b[0m\u001b[0;34m)\u001b[0m \u001b[0;32min\u001b[0m \u001b[0mScalarType\u001b[0m\u001b[0;34m\u001b[0m\u001b[0;34m\u001b[0m\u001b[0m\n\u001b[0;32m-> 1864\u001b[0;31m             or isinstance(element, numbers.Number))\n\u001b[0m\u001b[1;32m   1865\u001b[0m \u001b[0;34m\u001b[0m\u001b[0m\n\u001b[1;32m   1866\u001b[0m \u001b[0;34m\u001b[0m\u001b[0m\n",
      "\u001b[0;31mKeyboardInterrupt\u001b[0m: "
     ]
    }
   ],
   "source": [
    "k_options = [x for x in range(350, 500, 50)]\n",
    "#mode_options = [\"distance\", \"connectivity\"]\n",
    "mode_options = [\"connectivity\"]\n",
    "slope_options = [x for x in range(1, 3)]\n",
    "xshift_options = [x for x in range(1, 10)]\n",
    "\n",
    "mnn_k_score_dict = {}\n",
    "for ko in k_options:\n",
    "    for mo in mode_options:\n",
    "        #for so in slope_options:\n",
    "            #for xo in xshift_options:\n",
    "        condensed_dist_mat = getdistance_mnn(\n",
    "            clonegrouping_spmtx, coords_mtx, time_vec, \n",
    "            dist=\"kneighbors\", neighbors=ko, mode=mo, \n",
    "            slope = 1, xshift = 1)\n",
    "        for lo in linkage_options:\n",
    "            Z = linkage(condensed_dist_mat, lo)\n",
    "            for co in cluster_options:\n",
    "                clone_clusters = fcluster(Z, 5, criterion=co)\n",
    "                score = adjusted_rand_score(df_truth['celltype'].tolist(), clone_clusters.tolist())\n",
    "                mnn_k_score_dict[(ko, mo, lo, co)]=score\n",
    "                print((ko,mo,lo,co),\"\\t\",score)"
   ]
  },
  {
   "cell_type": "code",
   "execution_count": 5,
   "metadata": {},
   "outputs": [
    {
     "name": "stdout",
     "output_type": "stream",
     "text": [
      "(400, 'connectivity', 'ward', 'maxclust') \t\t 0.41058581088603674\n",
      "(350, 'connectivity', 'ward', 'maxclust') \t\t 0.39069940300884487\n",
      "(450, 'connectivity', 'ward', 'maxclust') \t\t 0.11549967340088849\n"
     ]
    }
   ],
   "source": [
    "listofTuples = sorted(mnn_k_score_dict.items() , reverse=True, key=lambda x: x[1])\n",
    "for elem in listofTuples :\n",
    "    print(elem[0] , \"\\t\\t\" , elem[1] )"
   ]
  },
  {
   "cell_type": "markdown",
   "metadata": {},
   "source": [
    "### MNN Troubleshooting"
   ]
  },
  {
   "cell_type": "code",
   "execution_count": null,
   "metadata": {},
   "outputs": [],
   "source": [
    "%run megatron_ak.ipynb\n",
    "r_options = [x/10 for x in range(10, 100, 30)]\n",
    "mode_options = [\"distance\", \"connectivity\"]\n",
    "slope_options = [x for x in range(1, 3)]\n",
    "xshift_options = [x for x in range(1, 3)]\n",
    "\n",
    "for ro in r_options:\n",
    "    for mo in mode_options:\n",
    "        for so in slope_options:\n",
    "            for xo in xshift_options:\n",
    "                dm, fracs, trans, numers, denoms = getdistance_mnn_debug(\n",
    "                    clonegrouping_spmtx, coords_mtx, time_vec, dist=\"radius\", \n",
    "                    radius=ro, mode=mo, slope=so, xshift=xo)\n",
    "                Z = linkage(dm, 'ward')\n",
    "                print((ro,mo,so,xo))\n",
    "                plt.hist(numers)\n",
    "                plt.title('Numerators')\n",
    "                plt.show()\n",
    "                plt.hist(denoms)\n",
    "                plt.title('Denominators')\n",
    "                plt.show()\n",
    "                plt.hist(fracs)\n",
    "                plt.title('Fraction - 1')\n",
    "                plt.show()\n",
    "                plt.hist(trans)\n",
    "                plt.title('Transformed with sigmoid')\n",
    "                plt.show()"
   ]
  },
  {
   "cell_type": "code",
   "execution_count": 9,
   "metadata": {},
   "outputs": [],
   "source": [
    "%run megatron_ak.ipynb\n",
    "%reload_ext line_profiler\n",
    "%lprun -f getdistance_mnn getdistance_mnn(clonegrouping_spmtx, coords_mtx, time_vec, dist=\"radius\", radius=100, mode=\"connectivity\", slope=4.6, xshift=1.1)"
   ]
  },
  {
   "cell_type": "code",
   "execution_count": null,
   "metadata": {},
   "outputs": [],
   "source": []
  }
 ],
 "metadata": {
  "kernelspec": {
   "display_name": "Python 3",
   "language": "python",
   "name": "python3"
  },
  "language_info": {
   "codemirror_mode": {
    "name": "ipython",
    "version": 3
   },
   "file_extension": ".py",
   "mimetype": "text/x-python",
   "name": "python",
   "nbconvert_exporter": "python",
   "pygments_lexer": "ipython3",
   "version": "3.7.6"
  }
 },
 "nbformat": 4,
 "nbformat_minor": 4
}
