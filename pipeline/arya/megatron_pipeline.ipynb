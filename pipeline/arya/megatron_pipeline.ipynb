{
 "cells": [
  {
   "cell_type": "code",
   "execution_count": 27,
   "metadata": {},
   "outputs": [],
   "source": [
    "# instantiate functions for distance calculations (wasserstein/mnn)\n",
    "%run megatron_ak.ipynb\n",
    "# insantiate functions for viz\n",
    "%run visualizations.ipynb"
   ]
  },
  {
   "cell_type": "code",
   "execution_count": 28,
   "metadata": {},
   "outputs": [],
   "source": [
    "# read in klein data\n",
    "datadir = '../../preprocess/kleinlab/output_subset/'\n",
    "df_metadata = pd.read_csv(os.path.join(datadir,'metadata.tsv.gz'),\n",
    "                          sep='\\t',index_col=0)\n",
    "df_coord = pd.read_csv(os.path.join(datadir,'coordinates.tsv.gz'),\n",
    "                       sep='\\t',index_col=0)\n",
    "df_clones = pd.read_csv(os.path.join(datadir,'clones.tsv.gz'),\n",
    "                        sep='\\t',index_col=0)\n",
    "df_clones = df_clones[df_clones.columns[df_clones.sum(axis=0)>0]]\n",
    "\n",
    "# different between mine and Huidong's function. I need a sparse matrix\n",
    "clonegrouping_spmtx = sps.csc_matrix(df_clones.to_numpy())"
   ]
  },
  {
   "cell_type": "code",
   "execution_count": 29,
   "metadata": {},
   "outputs": [
    {
     "data": {
      "application/vnd.jupyter.widget-view+json": {
       "model_id": "934a84e8341c49f2b4628948a7677685",
       "version_major": 2,
       "version_minor": 0
      },
      "text/plain": [
       "interactive(children=(IntSlider(value=1, description='num_clusters', max=30, min=1), Button(description='Run I…"
      ]
     },
     "metadata": {},
     "output_type": "display_data"
    },
    {
     "name": "stdout",
     "output_type": "stream",
     "text": [
      "CPU times: user 43.9 s, sys: 3.25 ms, total: 43.9 s\n",
      "Wall time: 44 s\n"
     ]
    }
   ],
   "source": [
    "%%time\n",
    "# run and visualize wasserstein distance\n",
    "condensed_dist_mat = getdistance_wasserstein(\n",
    "    clonegrouping_spmtx, \n",
    "    df_coord.to_numpy(),\n",
    "    df_metadata['time'].to_numpy(), \n",
    "    choice='energy')\n",
    "Z = linkage(condensed_dist_mat, 'ward')\n",
    "full_viz(\n",
    "    Z,\n",
    "    df_coord,\n",
    "    df_clones\n",
    ")"
   ]
  },
  {
   "cell_type": "code",
   "execution_count": 7,
   "metadata": {},
   "outputs": [
    {
     "data": {
      "application/vnd.jupyter.widget-view+json": {
       "model_id": "9b554b9678174133b54c24a4a5123817",
       "version_major": 2,
       "version_minor": 0
      },
      "text/plain": [
       "interactive(children=(IntSlider(value=4, description='num_clusters', max=30, min=4), Button(description='Run I…"
      ]
     },
     "metadata": {},
     "output_type": "display_data"
    },
    {
     "name": "stdout",
     "output_type": "stream",
     "text": [
      "CPU times: user 31min 31s, sys: 191 ms, total: 31min 31s\n",
      "Wall time: 31min 35s\n"
     ]
    }
   ],
   "source": [
    "%%time\n",
    "# run and visualize mnn distance\n",
    "condensed_dist_mat = getdistance_mnn(\n",
    "    clonegrouping_spmtx,\n",
    "    df_coord.to_numpy(),\n",
    "    df_metadata['time'].to_numpy(), \n",
    "    dist=\"kneighbors\", \n",
    "    neighbors=300, \n",
    "    mode='connectivity'\n",
    ")\n",
    "Z = linkage(condensed_dist_mat, 'ward')\n",
    "full_viz(\n",
    "    Z,\n",
    "    df_coord,\n",
    "    df_clones\n",
    ")"
   ]
  },
  {
   "cell_type": "code",
   "execution_count": 38,
   "metadata": {},
   "outputs": [
    {
     "data": {
      "text/plain": [
       "<bound method NDFrame.head of                         (-1, 486, 159)  (-1, 2105, 2051)  (-1, 2105, 2052)  \\\n",
       "HF1.CCTAGCTTCCAAATGC-4               0                 0                 0   \n",
       "HF1.CGCTTCACACTTACGA-4               0                 0                 0   \n",
       "HF1.GTAGTCATCGTATCAG-4               0                 0                 0   \n",
       "HF1.AAATGCCTCTAACTGG-5               0                 0                 0   \n",
       "HF1.AAGACCTTCCTCTAGC-5               0                 0                 0   \n",
       "...                                ...               ...               ...   \n",
       "HF2.TACACGATCGCAAACT-8               0                 0                 0   \n",
       "HF2.TACGGTATCATACGGT-8               0                 0                 0   \n",
       "HF2.TATGCCCTCGGATGTT-8               0                 0                 0   \n",
       "HF2.TTCGGTCAGAGTAATC-8               0                 0                 0   \n",
       "HF2.TTCTCAAAGTTGAGTA-8               0                 0                 0   \n",
       "\n",
       "                        (-1, 2105, 2201)  (-1, 2281, 2025)  (-1, 2281, 2026)  \\\n",
       "HF1.CCTAGCTTCCAAATGC-4                 0                 0                 0   \n",
       "HF1.CGCTTCACACTTACGA-4                 0                 0                 0   \n",
       "HF1.GTAGTCATCGTATCAG-4                 0                 0                 0   \n",
       "HF1.AAATGCCTCTAACTGG-5                 0                 0                 0   \n",
       "HF1.AAGACCTTCCTCTAGC-5                 0                 0                 0   \n",
       "...                                  ...               ...               ...   \n",
       "HF2.TACACGATCGCAAACT-8                 0                 0                 0   \n",
       "HF2.TACGGTATCATACGGT-8                 0                 0                 0   \n",
       "HF2.TATGCCCTCGGATGTT-8                 0                 0                 0   \n",
       "HF2.TTCGGTCAGAGTAATC-8                 0                 0                 0   \n",
       "HF2.TTCTCAAAGTTGAGTA-8                 0                 0                 0   \n",
       "\n",
       "                        (-1, 2281, 2040)  (-1, 2281, 2050)  (-1, 2281, 2055)  \\\n",
       "HF1.CCTAGCTTCCAAATGC-4                 0                 0                 0   \n",
       "HF1.CGCTTCACACTTACGA-4                 0                 0                 0   \n",
       "HF1.GTAGTCATCGTATCAG-4                 0                 0                 0   \n",
       "HF1.AAATGCCTCTAACTGG-5                 0                 0                 0   \n",
       "HF1.AAGACCTTCCTCTAGC-5                 0                 0                 0   \n",
       "...                                  ...               ...               ...   \n",
       "HF2.TACACGATCGCAAACT-8                 0                 0                 0   \n",
       "HF2.TACGGTATCATACGGT-8                 0                 0                 0   \n",
       "HF2.TATGCCCTCGGATGTT-8                 0                 0                 0   \n",
       "HF2.TTCGGTCAGAGTAATC-8                 0                 0                 0   \n",
       "HF2.TTCTCAAAGTTGAGTA-8                 0                 0                 0   \n",
       "\n",
       "                        (-1, 2281, 2071)  ...  (2641, 2418, -1)  \\\n",
       "HF1.CCTAGCTTCCAAATGC-4                 0  ...                 0   \n",
       "HF1.CGCTTCACACTTACGA-4                 0  ...                 0   \n",
       "HF1.GTAGTCATCGTATCAG-4                 0  ...                 0   \n",
       "HF1.AAATGCCTCTAACTGG-5                 0  ...                 0   \n",
       "HF1.AAGACCTTCCTCTAGC-5                 0  ...                 0   \n",
       "...                                  ...  ...               ...   \n",
       "HF2.TACACGATCGCAAACT-8                 0  ...                 0   \n",
       "HF2.TACGGTATCATACGGT-8                 0  ...                 0   \n",
       "HF2.TATGCCCTCGGATGTT-8                 0  ...                 0   \n",
       "HF2.TTCGGTCAGAGTAATC-8                 0  ...                 0   \n",
       "HF2.TTCTCAAAGTTGAGTA-8                 0  ...                 0   \n",
       "\n",
       "                        (2695, 2281, -1)  (2695, 2281, 2025)  \\\n",
       "HF1.CCTAGCTTCCAAATGC-4                 0                   0   \n",
       "HF1.CGCTTCACACTTACGA-4                 0                   0   \n",
       "HF1.GTAGTCATCGTATCAG-4                 0                   0   \n",
       "HF1.AAATGCCTCTAACTGG-5                 0                   0   \n",
       "HF1.AAGACCTTCCTCTAGC-5                 0                   0   \n",
       "...                                  ...                 ...   \n",
       "HF2.TACACGATCGCAAACT-8                 0                   0   \n",
       "HF2.TACGGTATCATACGGT-8                 0                   0   \n",
       "HF2.TATGCCCTCGGATGTT-8                 0                   0   \n",
       "HF2.TTCGGTCAGAGTAATC-8                 0                   0   \n",
       "HF2.TTCTCAAAGTTGAGTA-8                 0                   0   \n",
       "\n",
       "                        (2695, 2281, 2095)  (2695, 2281, 2174)  \\\n",
       "HF1.CCTAGCTTCCAAATGC-4                   0                   0   \n",
       "HF1.CGCTTCACACTTACGA-4                   0                   0   \n",
       "HF1.GTAGTCATCGTATCAG-4                   0                   0   \n",
       "HF1.AAATGCCTCTAACTGG-5                   0                   0   \n",
       "HF1.AAGACCTTCCTCTAGC-5                   0                   0   \n",
       "...                                    ...                 ...   \n",
       "HF2.TACACGATCGCAAACT-8                   0                   0   \n",
       "HF2.TACGGTATCATACGGT-8                   0                   0   \n",
       "HF2.TATGCCCTCGGATGTT-8                   0                   0   \n",
       "HF2.TTCGGTCAGAGTAATC-8                   0                   0   \n",
       "HF2.TTCTCAAAGTTGAGTA-8                   0                   0   \n",
       "\n",
       "                        (2695, 2281, 2276)  (2721, -1, 2075)  \\\n",
       "HF1.CCTAGCTTCCAAATGC-4                   0                 0   \n",
       "HF1.CGCTTCACACTTACGA-4                   0                 0   \n",
       "HF1.GTAGTCATCGTATCAG-4                   0                 0   \n",
       "HF1.AAATGCCTCTAACTGG-5                   0                 0   \n",
       "HF1.AAGACCTTCCTCTAGC-5                   0                 0   \n",
       "...                                    ...               ...   \n",
       "HF2.TACACGATCGCAAACT-8                   0                 0   \n",
       "HF2.TACGGTATCATACGGT-8                   0                 0   \n",
       "HF2.TATGCCCTCGGATGTT-8                   0                 0   \n",
       "HF2.TTCGGTCAGAGTAATC-8                   0                 0   \n",
       "HF2.TTCTCAAAGTTGAGTA-8                   0                 0   \n",
       "\n",
       "                        (2721, -1, 2212)  (2721, 2024, -1)  (2764, 2525, -1)  \n",
       "HF1.CCTAGCTTCCAAATGC-4                 0                 0                 0  \n",
       "HF1.CGCTTCACACTTACGA-4                 0                 0                 0  \n",
       "HF1.GTAGTCATCGTATCAG-4                 0                 0                 0  \n",
       "HF1.AAATGCCTCTAACTGG-5                 0                 0                 0  \n",
       "HF1.AAGACCTTCCTCTAGC-5                 0                 0                 0  \n",
       "...                                  ...               ...               ...  \n",
       "HF2.TACACGATCGCAAACT-8                 0                 0                 0  \n",
       "HF2.TACGGTATCATACGGT-8                 0                 0                 0  \n",
       "HF2.TATGCCCTCGGATGTT-8                 0                 0                 0  \n",
       "HF2.TTCGGTCAGAGTAATC-8                 0                 0                 0  \n",
       "HF2.TTCTCAAAGTTGAGTA-8                 0                 0                 0  \n",
       "\n",
       "[4498 rows x 236 columns]>"
      ]
     },
     "execution_count": 38,
     "metadata": {},
     "output_type": "execute_result"
    }
   ],
   "source": [
    "datadir = '../../preprocess/morrislab/output'\n",
    "df_coord_umap = pd.read_csv(os.path.join(datadir,'coordinates_umap.tsv'),sep=',',index_col=0,names=[\"\",'0','1'], header=0)\n",
    "df_clones = pd.read_csv(os.path.join(datadir,'clones.tsv.gz'),sep='\\t',index_col=0)\n",
    "df_metadata = pd.read_csv(os.path.join(datadir,'metadata.tsv.gz'),sep='\\t',index_col=0)\n",
    "\n",
    "df_clones = df_clones[df_clones.columns[df_clones.sum(axis=0)>20]]\n",
    "df_.head\n",
    "#clonegrouping_spmtx = sps.csc_matrix(df_clones.to_numpy())\n",
    "\n",
    "#condensed_dist_mat = getdistance_mnn(\n",
    "#    clonegrouping_spmtx, \n",
    "#    df_coord_umap.to_numpy(), \n",
    "#    df_metadata['time'].to_numpy(), \n",
    "#    dist=\"kneighbors\", \n",
    "#    neighbors=300, \n",
    "#    mode='connectivity')\n",
    "#Z = linkage(condensed_dist_mat, 'ward')\n",
    "#full_viz(\n",
    "#    Z,\n",
    "#    df_coord,\n",
    "#    df_clones\n",
    "#)"
   ]
  },
  {
   "cell_type": "code",
   "execution_count": null,
   "metadata": {},
   "outputs": [],
   "source": []
  }
 ],
 "metadata": {
  "kernelspec": {
   "display_name": "Python 3",
   "language": "python",
   "name": "python3"
  },
  "language_info": {
   "codemirror_mode": {
    "name": "ipython",
    "version": 3
   },
   "file_extension": ".py",
   "mimetype": "text/x-python",
   "name": "python",
   "nbconvert_exporter": "python",
   "pygments_lexer": "ipython3",
   "version": "3.8.5"
  }
 },
 "nbformat": 4,
 "nbformat_minor": 4
}
