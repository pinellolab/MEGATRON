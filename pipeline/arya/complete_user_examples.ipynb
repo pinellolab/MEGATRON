{
 "cells": [
  {
   "cell_type": "code",
   "execution_count": 1,
   "metadata": {},
   "outputs": [],
   "source": [
    "# instantiate functions for distance calculations (wasserstein/mnn)\n",
    "%run megatron_ak.ipynb\n",
    "# insantiate functions for viz\n",
    "%run visualizations.ipynb"
   ]
  },
  {
   "cell_type": "code",
   "execution_count": 28,
   "metadata": {},
   "outputs": [],
   "source": [
    "# read in klein data\n",
    "datadir = '../../preprocess/kleinlab/output_subset/'\n",
    "df_metadata = pd.read_csv(os.path.join(datadir,'metadata.tsv.gz'),\n",
    "                          sep='\\t',index_col=0)\n",
    "df_coord = pd.read_csv(os.path.join(datadir,'coordinates.tsv.gz'),\n",
    "                       sep='\\t',index_col=0)\n",
    "df_clones = pd.read_csv(os.path.join(datadir,'clones.tsv.gz'),\n",
    "                        sep='\\t',index_col=0)\n",
    "df_clones = df_clones[df_clones.columns[df_clones.sum(axis=0)>0]]\n",
    "\n",
    "# different between mine and Huidong's function. I need a sparse matrix\n",
    "clonegrouping_spmtx = sps.csc_matrix(df_clones.to_numpy())"
   ]
  },
  {
   "cell_type": "code",
   "execution_count": 29,
   "metadata": {},
   "outputs": [
    {
     "data": {
      "application/vnd.jupyter.widget-view+json": {
       "model_id": "934a84e8341c49f2b4628948a7677685",
       "version_major": 2,
       "version_minor": 0
      },
      "text/plain": [
       "interactive(children=(IntSlider(value=1, description='num_clusters', max=30, min=1), Button(description='Run I…"
      ]
     },
     "metadata": {},
     "output_type": "display_data"
    },
    {
     "name": "stdout",
     "output_type": "stream",
     "text": [
      "CPU times: user 43.9 s, sys: 3.25 ms, total: 43.9 s\n",
      "Wall time: 44 s\n"
     ]
    }
   ],
   "source": [
    "%%time\n",
    "# run and visualize wasserstein distance\n",
    "condensed_dist_mat = getdistance_wasserstein(\n",
    "    clonegrouping_spmtx, \n",
    "    df_coord.to_numpy(),\n",
    "    df_metadata['time'].to_numpy(), \n",
    "    choice='energy')\n",
    "Z = linkage(condensed_dist_mat, 'ward')\n",
    "full_viz(\n",
    "    Z,\n",
    "    df_coord,\n",
    "    df_clones\n",
    ")"
   ]
  },
  {
   "cell_type": "code",
   "execution_count": 7,
   "metadata": {},
   "outputs": [
    {
     "data": {
      "application/vnd.jupyter.widget-view+json": {
       "model_id": "9b554b9678174133b54c24a4a5123817",
       "version_major": 2,
       "version_minor": 0
      },
      "text/plain": [
       "interactive(children=(IntSlider(value=4, description='num_clusters', max=30, min=4), Button(description='Run I…"
      ]
     },
     "metadata": {},
     "output_type": "display_data"
    },
    {
     "name": "stdout",
     "output_type": "stream",
     "text": [
      "CPU times: user 31min 31s, sys: 191 ms, total: 31min 31s\n",
      "Wall time: 31min 35s\n"
     ]
    }
   ],
   "source": [
    "%%time\n",
    "# run and visualize mnn distance\n",
    "condensed_dist_mat = getdistance_mnn(\n",
    "    clonegrouping_spmtx,\n",
    "    df_coord.to_numpy(),\n",
    "    df_metadata['time'].to_numpy(), \n",
    "    dist=\"kneighbors\", \n",
    "    neighbors=300, \n",
    "    mode='connectivity'\n",
    ")\n",
    "Z = linkage(condensed_dist_mat, 'ward')\n",
    "full_viz(\n",
    "    Z,\n",
    "    df_coord,\n",
    "    df_clones\n",
    ")"
   ]
  },
  {
   "cell_type": "code",
   "execution_count": 18,
   "metadata": {},
   "outputs": [
    {
     "data": {
      "application/vnd.jupyter.widget-view+json": {
       "model_id": "857199361ea240f78ff675ef3c1740f3",
       "version_major": 2,
       "version_minor": 0
      },
      "text/plain": [
       "interactive(children=(IntSlider(value=1, description='num_clusters', max=30, min=1), Button(description='Run I…"
      ]
     },
     "metadata": {},
     "output_type": "display_data"
    }
   ],
   "source": [
    "datadir = '../../preprocess/morrislab/output'\n",
    "df_coord_umap = pd.read_csv(os.path.join(datadir,'u10_3.tsv'),sep='\\t',index_col=0, header=0)\n",
    "df_clones = pd.read_csv(os.path.join(datadir,'clones.tsv.gz'),sep='\\t',index_col=0)\n",
    "df_metadata = pd.read_csv(os.path.join(datadir,'metadata.tsv.gz'),sep='\\t',index_col=0)\n",
    "\n",
    "df_clones = df_clones[df_clones.columns[df_clones.sum(axis=0)>20]]\n",
    "clonegrouping_spmtx = sps.csc_matrix(df_clones.to_numpy())\n",
    "\n",
    "condensed_dist_mat = getdistance_wasserstein(\n",
    "    clonegrouping_spmtx, \n",
    "    df_coord_umap.to_numpy(),\n",
    "    df_metadata['time'].to_numpy(), \n",
    "    choice='energy'\n",
    ")\n",
    "\n",
    "Z = linkage(condensed_dist_mat, 'ward')\n",
    "\n",
    "full_viz(\n",
    "    Z,\n",
    "    df_coord_umap,\n",
    "    df_clones\n",
    ")"
   ]
  },
  {
   "cell_type": "code",
   "execution_count": null,
   "metadata": {},
   "outputs": [],
   "source": [
    "datadir = '../../preprocess/morrislab/output'\n",
    "df_coord_umap = pd.read_csv(os.path.join(datadir,'u10_3.tsv'),sep='\\t',index_col=0, header=0)\n",
    "df_clones = pd.read_csv(os.path.join(datadir,'clones.tsv.gz'),sep='\\t',index_col=0)\n",
    "df_metadata = pd.read_csv(os.path.join(datadir,'metadata.tsv.gz'),sep='\\t',index_col=0)\n",
    "\n",
    "df_clones = df_clones[df_clones.columns[df_clones.sum(axis=0)>20]]\n",
    "clonegrouping_spmtx = sps.csc_matrix(df_clones.to_numpy())\n",
    "\n",
    "condensed_dist_mat = getdistance_mnn(\n",
    "    clonegrouping_spmtx,\n",
    "    df_coord_umap.to_numpy(),\n",
    "    df_metadata['time'].to_numpy(), \n",
    "    dist=\"kneighbors\", \n",
    "    neighbors=10, \n",
    "    mode='connectivity'\n",
    ")\n",
    "\n",
    "\n",
    "Z = linkage(condensed_dist_mat, 'ward')\n",
    "\n",
    "full_viz(\n",
    "    Z,\n",
    "    df_coord_umap,\n",
    "    df_clones\n",
    ")"
   ]
  },
  {
   "cell_type": "code",
   "execution_count": null,
   "metadata": {},
   "outputs": [],
   "source": []
  }
 ],
 "metadata": {
  "kernelspec": {
   "display_name": "Python 3",
   "language": "python",
   "name": "python3"
  },
  "language_info": {
   "codemirror_mode": {
    "name": "ipython",
    "version": 3
   },
   "file_extension": ".py",
   "mimetype": "text/x-python",
   "name": "python",
   "nbconvert_exporter": "python",
   "pygments_lexer": "ipython3",
   "version": "3.8.6"
  }
 },
 "nbformat": 4,
 "nbformat_minor": 4
}
