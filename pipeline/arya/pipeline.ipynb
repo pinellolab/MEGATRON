{
 "cells": [
  {
   "cell_type": "code",
   "execution_count": 1,
   "metadata": {},
   "outputs": [],
   "source": [
    "# run my code\n",
    "%run megatron_ak.ipynb"
   ]
  },
  {
   "cell_type": "markdown",
   "metadata": {},
   "source": [
    "### Read in Data"
   ]
  },
  {
   "cell_type": "code",
   "execution_count": 2,
   "metadata": {},
   "outputs": [
    {
     "name": "stdout",
     "output_type": "stream",
     "text": [
      "Number of cells:  3221\n",
      "Number of clones:  365\n",
      "Number of dimensions:  2\n",
      "Time Steps:  [2. 4. 6.]\n"
     ]
    }
   ],
   "source": [
    "datadir = '../../preprocess/kleinlab/output_subset/'\n",
    "cellid_to_idx, cloneid_to_idx, clonegrouping_spmtx, coords_mtx, time_vec = readin(datadir)"
   ]
  },
  {
   "cell_type": "markdown",
   "metadata": {},
   "source": [
    "## Trials"
   ]
  },
  {
   "cell_type": "code",
   "execution_count": 3,
   "metadata": {},
   "outputs": [],
   "source": [
    "from scipy.cluster.hierarchy import dendrogram, linkage, fcluster\n",
    "from sklearn.metrics.cluster import adjusted_rand_score\n",
    "df_truth = pd.read_csv(os.path.join(datadir,'./clones_truth.tsv.gz'),sep='\\t',index_col=0)\n",
    "#linkage_options = ['complete', 'ward', 'average', 'weighted', 'centroid', 'median']\n",
    "linkage_options = ['ward']\n",
    "cluster_options = ['maxclust']"
   ]
  },
  {
   "cell_type": "markdown",
   "metadata": {},
   "source": [
    "### Wasserstein Trials"
   ]
  },
  {
   "cell_type": "code",
   "execution_count": 7,
   "metadata": {},
   "outputs": [
    {
     "name": "stdout",
     "output_type": "stream",
     "text": [
      "Out of 66430 clonal distances, 0 are noninformative\n",
      "Out of 66430 clonal distances, 0 are noninformative\n"
     ]
    }
   ],
   "source": [
    "dist_options = ['wasserstein', 'energy']\n",
    "\n",
    "wass_score_dict = {}\n",
    "for do in dist_options:\n",
    "    condensed_dist_mat = getdistance_wasserstein(clonegrouping_spmtx, coords_mtx, time_vec, choice=do)\n",
    "    for lo in linkage_options:\n",
    "        Z = linkage(condensed_dist_mat, lo)\n",
    "        for co in cluster_options:\n",
    "            clone_clusters = fcluster(Z, 5, criterion=co)\n",
    "            score = adjusted_rand_score(df_truth['celltype'].tolist(), clone_clusters.tolist())\n",
    "            wass_score_dict[(do, lo, co)]=score"
   ]
  },
  {
   "cell_type": "code",
   "execution_count": 10,
   "metadata": {},
   "outputs": [
    {
     "name": "stdout",
     "output_type": "stream",
     "text": [
      "('energy', 'ward', 'maxclust') \t\t 0.7899530119959177\n",
      "('wasserstein', 'ward', 'maxclust') \t\t 0.7885719124781362\n",
      "('wasserstein', 'median', 'maxclust') \t\t 0.7616486910947495\n",
      "('energy', 'average', 'maxclust') \t\t 0.7502881477816572\n",
      "('energy', 'weighted', 'maxclust') \t\t 0.7412519902286092\n",
      "('wasserstein', 'centroid', 'maxclust') \t\t 0.7294044632136572\n",
      "('energy', 'complete', 'maxclust') \t\t 0.7289260391327324\n",
      "('wasserstein', 'average', 'maxclust') \t\t 0.7105797278643441\n",
      "('wasserstein', 'complete', 'maxclust') \t\t 0.6990144268531757\n",
      "('wasserstein', 'weighted', 'maxclust') \t\t 0.5355769532850246\n",
      "('energy', 'median', 'maxclust') \t\t 0.5007467235162486\n",
      "('energy', 'centroid', 'maxclust') \t\t 0.47804527941231256\n",
      "('energy', 'single', 'maxclust') \t\t 0.18600624102198973\n",
      "('wasserstein', 'single', 'maxclust') \t\t -0.0034818974557002946\n"
     ]
    }
   ],
   "source": [
    "listofTuples = sorted(wass_score_dict.items() , reverse=True, key=lambda x: x[1])\n",
    "for elem in listofTuples :\n",
    "    print(elem[0] , \"\\t\\t\" , elem[1] )"
   ]
  },
  {
   "cell_type": "markdown",
   "metadata": {},
   "source": [
    "### MNN Trials - Radius Graph"
   ]
  },
  {
   "cell_type": "code",
   "execution_count": null,
   "metadata": {},
   "outputs": [
    {
     "name": "stderr",
     "output_type": "stream",
     "text": [
      "/usr/lib/python3.8/site-packages/numpy/core/fromnumeric.py:3334: RuntimeWarning: Mean of empty slice.\n",
      "  return _methods._mean(a, axis=axis, dtype=dtype,\n",
      "/usr/lib/python3.8/site-packages/numpy/core/_methods.py:161: RuntimeWarning: invalid value encountered in double_scalars\n",
      "  ret = ret.dtype.type(ret / rcount)\n",
      "/usr/lib/python3.8/site-packages/numpy/core/fromnumeric.py:3334: RuntimeWarning: Mean of empty slice.\n",
      "  return _methods._mean(a, axis=axis, dtype=dtype,\n",
      "/usr/lib/python3.8/site-packages/numpy/core/_methods.py:161: RuntimeWarning: invalid value encountered in double_scalars\n",
      "  ret = ret.dtype.type(ret / rcount)\n",
      "/usr/lib/python3.8/site-packages/numpy/core/fromnumeric.py:3334: RuntimeWarning: Mean of empty slice.\n",
      "  return _methods._mean(a, axis=axis, dtype=dtype,\n",
      "/usr/lib/python3.8/site-packages/numpy/core/_methods.py:161: RuntimeWarning: invalid value encountered in double_scalars\n",
      "  ret = ret.dtype.type(ret / rcount)\n",
      "/usr/lib/python3.8/site-packages/numpy/core/fromnumeric.py:3334: RuntimeWarning: Mean of empty slice.\n",
      "  return _methods._mean(a, axis=axis, dtype=dtype,\n",
      "/usr/lib/python3.8/site-packages/numpy/core/_methods.py:161: RuntimeWarning: invalid value encountered in double_scalars\n",
      "  ret = ret.dtype.type(ret / rcount)\n",
      "/usr/lib/python3.8/site-packages/numpy/core/fromnumeric.py:3334: RuntimeWarning: Mean of empty slice.\n",
      "  return _methods._mean(a, axis=axis, dtype=dtype,\n",
      "/usr/lib/python3.8/site-packages/numpy/core/_methods.py:161: RuntimeWarning: invalid value encountered in double_scalars\n",
      "  ret = ret.dtype.type(ret / rcount)\n",
      "/usr/lib/python3.8/site-packages/numpy/core/fromnumeric.py:3334: RuntimeWarning: Mean of empty slice.\n",
      "  return _methods._mean(a, axis=axis, dtype=dtype,\n",
      "/usr/lib/python3.8/site-packages/numpy/core/_methods.py:161: RuntimeWarning: invalid value encountered in double_scalars\n",
      "  ret = ret.dtype.type(ret / rcount)\n",
      "/usr/lib/python3.8/site-packages/numpy/core/fromnumeric.py:3334: RuntimeWarning: Mean of empty slice.\n",
      "  return _methods._mean(a, axis=axis, dtype=dtype,\n",
      "/usr/lib/python3.8/site-packages/numpy/core/_methods.py:161: RuntimeWarning: invalid value encountered in double_scalars\n",
      "  ret = ret.dtype.type(ret / rcount)\n",
      "/usr/lib/python3.8/site-packages/numpy/core/fromnumeric.py:3334: RuntimeWarning: Mean of empty slice.\n",
      "  return _methods._mean(a, axis=axis, dtype=dtype,\n",
      "/usr/lib/python3.8/site-packages/numpy/core/_methods.py:161: RuntimeWarning: invalid value encountered in double_scalars\n",
      "  ret = ret.dtype.type(ret / rcount)\n",
      "/usr/lib/python3.8/site-packages/numpy/core/fromnumeric.py:3334: RuntimeWarning: Mean of empty slice.\n",
      "  return _methods._mean(a, axis=axis, dtype=dtype,\n",
      "/usr/lib/python3.8/site-packages/numpy/core/_methods.py:161: RuntimeWarning: invalid value encountered in double_scalars\n",
      "  ret = ret.dtype.type(ret / rcount)\n",
      "/usr/lib/python3.8/site-packages/numpy/core/fromnumeric.py:3334: RuntimeWarning: Mean of empty slice.\n",
      "  return _methods._mean(a, axis=axis, dtype=dtype,\n",
      "/usr/lib/python3.8/site-packages/numpy/core/_methods.py:161: RuntimeWarning: invalid value encountered in double_scalars\n",
      "  ret = ret.dtype.type(ret / rcount)\n",
      "/usr/lib/python3.8/site-packages/numpy/core/fromnumeric.py:3334: RuntimeWarning: Mean of empty slice.\n",
      "  return _methods._mean(a, axis=axis, dtype=dtype,\n",
      "/usr/lib/python3.8/site-packages/numpy/core/_methods.py:161: RuntimeWarning: invalid value encountered in double_scalars\n",
      "  ret = ret.dtype.type(ret / rcount)\n",
      "/usr/lib/python3.8/site-packages/numpy/core/fromnumeric.py:3334: RuntimeWarning: Mean of empty slice.\n",
      "  return _methods._mean(a, axis=axis, dtype=dtype,\n",
      "/usr/lib/python3.8/site-packages/numpy/core/_methods.py:161: RuntimeWarning: invalid value encountered in double_scalars\n",
      "  ret = ret.dtype.type(ret / rcount)\n",
      "/usr/lib/python3.8/site-packages/numpy/core/fromnumeric.py:3334: RuntimeWarning: Mean of empty slice.\n",
      "  return _methods._mean(a, axis=axis, dtype=dtype,\n",
      "/usr/lib/python3.8/site-packages/numpy/core/_methods.py:161: RuntimeWarning: invalid value encountered in double_scalars\n",
      "  ret = ret.dtype.type(ret / rcount)\n"
     ]
    }
   ],
   "source": [
    "# run my code\n",
    "%run megatron_ak.ipynb\n",
    "r_options = [x for x in range(30, 170, 30)]\n",
    "mode_options = [\"distance\", \"connectivity\"]\n",
    "slope_options = [x for x in range(1, 3)]\n",
    "xshift_options = [x for x in range(1, 10)]\n",
    "\n",
    "mnn_r_score_dict = {}\n",
    "for ro in r_options:\n",
    "    for mo in mode_options:\n",
    "        #for so in slope_options:\n",
    "            #for xo in xshift_options:\n",
    "        condensed_dist_mat = getdistance_mnn(\n",
    "        clonegrouping_spmtx, coords_mtx, time_vec, \n",
    "        dist=\"radius\", radius=ro, mode=mo, \n",
    "        slope = 1, xshift = 1)\n",
    "        for lo in linkage_options:\n",
    "            Z = linkage(condensed_dist_mat, lo)\n",
    "            for co in cluster_options:\n",
    "                clone_clusters = fcluster(Z, 5, criterion=co)\n",
    "                score = adjusted_rand_score(df_truth['celltype'].tolist(), clone_clusters.tolist())\n",
    "                mnn_r_score_dict[(ro, mo, lo, co)]=score\n",
    "                print((ro, mo, lo, co), \"\\t\", score)"
   ]
  },
  {
   "cell_type": "code",
   "execution_count": null,
   "metadata": {},
   "outputs": [],
   "source": [
    "listofTuples = sorted(mnn_r_score_dict.items() , reverse=True, key=lambda x: x[1])\n",
    "for elem in listofTuples :\n",
    "    print(elem[0] , \"\\t\\t\" , elem[1] )"
   ]
  },
  {
   "cell_type": "markdown",
   "metadata": {},
   "source": [
    "### MNN Trials - KNN Graph"
   ]
  },
  {
   "cell_type": "code",
   "execution_count": null,
   "metadata": {
    "scrolled": true
   },
   "outputs": [],
   "source": [
    "k_options = [x for x in range(350, 500, 50)]\n",
    "#mode_options = [\"distance\", \"connectivity\"]\n",
    "mode_options = [\"connectivity\"]\n",
    "slope_options = [x for x in range(1, 3)]\n",
    "xshift_options = [x for x in range(1, 10)]\n",
    "\n",
    "mnn_k_score_dict = {}\n",
    "for ko in k_options:\n",
    "    for mo in mode_options:\n",
    "        #for so in slope_options:\n",
    "            #for xo in xshift_options:\n",
    "        condensed_dist_mat = getdistance_mnn(\n",
    "            clonegrouping_spmtx, coords_mtx, time_vec, \n",
    "            dist=\"kneighbors\", neighbors=ko, mode=mo, \n",
    "            slope = 1, xshift = 1)\n",
    "        for lo in linkage_options:\n",
    "            Z = linkage(condensed_dist_mat, lo)\n",
    "            for co in cluster_options:\n",
    "                clone_clusters = fcluster(Z, 5, criterion=co)\n",
    "                score = adjusted_rand_score(df_truth['celltype'].tolist(), clone_clusters.tolist())\n",
    "                mnn_k_score_dict[(ko, mo, lo, co)]=score\n",
    "                print((ko,mo,lo,co),\"\\t\",score)"
   ]
  },
  {
   "cell_type": "code",
   "execution_count": null,
   "metadata": {},
   "outputs": [],
   "source": [
    "listofTuples = sorted(mnn_k_score_dict.items() , reverse=True, key=lambda x: x[1])\n",
    "for elem in listofTuples :\n",
    "    print(elem[0] , \"\\t\\t\" , elem[1] )"
   ]
  },
  {
   "cell_type": "markdown",
   "metadata": {},
   "source": [
    "### MNN Troubleshooting"
   ]
  },
  {
   "cell_type": "code",
   "execution_count": null,
   "metadata": {},
   "outputs": [],
   "source": [
    "%run megatron_ak.ipynb\n",
    "r_options = [x/10 for x in range(10, 100, 30)]\n",
    "mode_options = [\"distance\", \"connectivity\"]\n",
    "slope_options = [x for x in range(1, 3)]\n",
    "xshift_options = [x for x in range(1, 3)]\n",
    "\n",
    "for ro in r_options:\n",
    "    for mo in mode_options:\n",
    "        for so in slope_options:\n",
    "            for xo in xshift_options:\n",
    "                dm, fracs, trans, numers, denoms = getdistance_mnn_debug(\n",
    "                    clonegrouping_spmtx, coords_mtx, time_vec, dist=\"radius\", \n",
    "                    radius=ro, mode=mo, slope=so, xshift=xo)\n",
    "                Z = linkage(dm, 'ward')\n",
    "                print((ro,mo,so,xo))\n",
    "                plt.hist(numers)\n",
    "                plt.title('Numerators')\n",
    "                plt.show()\n",
    "                plt.hist(denoms)\n",
    "                plt.title('Denominators')\n",
    "                plt.show()\n",
    "                plt.hist(fracs)\n",
    "                plt.title('Fraction - 1')\n",
    "                plt.show()\n",
    "                plt.hist(trans)\n",
    "                plt.title('Transformed with sigmoid')\n",
    "                plt.show()"
   ]
  },
  {
   "cell_type": "code",
   "execution_count": 9,
   "metadata": {},
   "outputs": [],
   "source": [
    "%run megatron_ak.ipynb\n",
    "%reload_ext line_profiler\n",
    "%lprun -f getdistance_mnn getdistance_mnn(clonegrouping_spmtx, coords_mtx, time_vec, dist=\"radius\", radius=100, mode=\"connectivity\", slope=4.6, xshift=1.1)"
   ]
  },
  {
   "cell_type": "code",
   "execution_count": null,
   "metadata": {},
   "outputs": [],
   "source": []
  }
 ],
 "metadata": {
  "kernelspec": {
   "display_name": "Python 3",
   "language": "python",
   "name": "python3"
  },
  "language_info": {
   "codemirror_mode": {
    "name": "ipython",
    "version": 3
   },
   "file_extension": ".py",
   "mimetype": "text/x-python",
   "name": "python",
   "nbconvert_exporter": "python",
   "pygments_lexer": "ipython3",
   "version": "3.8.3"
  }
 },
 "nbformat": 4,
 "nbformat_minor": 4
}
