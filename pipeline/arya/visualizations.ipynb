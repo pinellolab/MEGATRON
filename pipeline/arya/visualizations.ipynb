{
 "cells": [
  {
   "cell_type": "code",
   "execution_count": 2,
   "metadata": {},
   "outputs": [],
   "source": [
    "import matplotlib.pyplot as plt\n",
    "import numpy as np\n",
    "from scipy.cluster import hierarchy\n",
    "import ipywidgets as widgets\n",
    "from ipywidgets import interact_manual\n",
    "from IPython.display import display\n",
    "import seaborn as sns\n",
    "import elpigraph\n",
    "%matplotlib inline"
   ]
  },
  {
   "cell_type": "code",
   "execution_count": 7,
   "metadata": {},
   "outputs": [],
   "source": [
    "def make_dendrogram(Z, num_clusters):\n",
    "    plt.title(\"Hierarchical Clustering Dendrogram (truncated)\")\n",
    "    plt.xlabel('Clone Id or (Meta-Clone Size)')\n",
    "    plt.ylabel('Distance')\n",
    "    hierarchy.dendrogram(\n",
    "        Z,\n",
    "        truncate_mode = 'lastp',\n",
    "        p = num_clusters,\n",
    "        leaf_rotation = 90.,\n",
    "        leaf_font_size = 10.,\n",
    "        show_contracted = True\n",
    "        # labels = ???\n",
    "    )\n",
    "    plt.show()"
   ]
  },
  {
   "cell_type": "code",
   "execution_count": null,
   "metadata": {},
   "outputs": [],
   "source": [
    "def make_elpi(cl_i):\n",
    "    # epg_i = elpigraph.computeElasticPrincipalTree(X = cl_i,\n",
    "    #                                                 NumNodes = 50,\n",
    "    #                                                 n_cores = 1,\n",
    "    #                                                 drawAccuracyComplexity = False, drawEnergy = False,drawPCAView = False,\n",
    "    #                                                 Do_PCA=False,CenterData=False)\n",
    "    epg_i = elpigraph.computeElasticPrincipalCurve(X = cl_i,\n",
    "        NumNodes = 20,\n",
    "        n_cores = 1,\n",
    "        #drawAccuracyComplexity = False, \n",
    "        #drawEnergy = False,\n",
    "        #drawPCAView = False,\n",
    "        Do_PCA=False,CenterData=False,verbose=False,\n",
    "        alpha=2,TrimmingRadius=500)    \n",
    "    return epg_i"
   ]
  },
  {
   "cell_type": "code",
   "execution_count": 4,
   "metadata": {},
   "outputs": [],
   "source": [
    "def plot_dendrogram_and_space(Z, df_coords, df_clones, num_clusters=5):\n",
    "    plt.clf()\n",
    "    make_dendrogram(Z, num_clusters)\n",
    "    \n",
    "    clone_clusters = fcluster(Z, num_clusters, criterion='maxclust')\n",
    "    df_clones_clusters = pd.Series(data=clone_clusters,\n",
    "                                   index=df_clones.columns)\n",
    "    dict_epg = dict()\n",
    "    for i,x in enumerate(np.unique(clone_clusters)):\n",
    "        clone_cluster_i = df_coords.loc[df_clones.index[df_clones[df_clones_clusters.index[df_clones_clusters==x]].sum(axis=1)>0]]\n",
    "        coord_vals_i = clone_cluster_i[['0','1']].values\n",
    "        dict_epg[i] = make_elpi(coord_vals_i)\n",
    "    n_col = 3\n",
    "    n_row = int(np.ceil(len(np.unique(clone_clusters))/n_col))\n",
    "    #colormap = sns.color_palette().as_hex()\n",
    "    color_palette = sns.color_palette(n_colors=len(np.unique(clone_clusters)))\n",
    "    colormap = {i: color_palette[i-1] for i in dict_epg.keys()}\n",
    "    \n",
    "    fig, axs = plt.subplots(n_row,n_col,\n",
    "                            figsize=(5*n_col, 5*n_row))\n",
    "    \n",
    "    for i,x in enumerate(np.unique(clone_clusters)):\n",
    "        clone_cluster_i = df_coords.loc[df_clones.index[df_clones[df_clones_clusters.index[df_clones_clusters==x]].sum(axis=1)>0]]\n",
    "        axs[int(np.floor(i/n_col)),i%n_col].scatter(df_coords['0'], df_coords['1'],\n",
    "                                                    c='gray',alpha=0.05,edgecolors='none')\n",
    "        axs[int(np.floor(i/n_col)),i%n_col].scatter(clone_cluster_i['0'], clone_cluster_i['1'],\n",
    "                                                    c=colormap[i],edgecolors='none',alpha=0.6)\n",
    "        axs[int(np.floor(i/n_col)),i%n_col].set_title('clone cluster '+str(x))\n",
    "\n",
    "    plt.figure(figsize=(6,6))\n",
    "    #ax = sns.scatterplot(x=df_coords['0'], y=df_coords['1'],hue='clone_cluster',linewidth=0,alpha=0.1,\n",
    "    #                    palette=sns.color_palette(n_colors=len(np.unique(clone_clusters))))\n",
    "    ax = sns.scatterplot(x=df_coords['0'], y=df_coords['1'],linewidth=0,alpha=0.1, color='gray')\n",
    "            #palette=sns.color_palette(n_colors=len(np.unique(clone_clusters))))\n",
    "    for i in dict_epg.keys():\n",
    "        epg_i = dict_epg[i]\n",
    "        for ii in range(epg_i[0]['Edges'][0].shape[0]):\n",
    "            edge_ii = epg_i[0]['Edges'][0][ii]\n",
    "            nodes_pos_ii = epg_i[0]['NodePositions'][edge_ii,:]\n",
    "            plt.plot(nodes_pos_ii[:,0],nodes_pos_ii[:,1],\n",
    "                 color=colormap[i],\n",
    "                 linewidth=5)\n",
    "    plt.legend(loc='upper left',bbox_to_anchor=(1.05, 1))"
   ]
  },
  {
   "cell_type": "code",
   "execution_count": 9,
   "metadata": {},
   "outputs": [],
   "source": [
    "def full_viz(Z, df_coords, df_clones):\n",
    "    interact_manual(\n",
    "        plot_dendrogram_and_space,\n",
    "        Z=fixed(Z),\n",
    "        df_coords=fixed(df_coords),\n",
    "        num_clusters=widgets.IntSlider(min=4, max=30,\n",
    "                                      step=1),\n",
    "        df_clones=fixed(df_clones)\n",
    "    )"
   ]
  },
  {
   "cell_type": "code",
   "execution_count": null,
   "metadata": {},
   "outputs": [],
   "source": []
  }
 ],
 "metadata": {
  "kernelspec": {
   "display_name": "Python 3",
   "language": "python",
   "name": "python3"
  },
  "language_info": {
   "codemirror_mode": {
    "name": "ipython",
    "version": 3
   },
   "file_extension": ".py",
   "mimetype": "text/x-python",
   "name": "python",
   "nbconvert_exporter": "python",
   "pygments_lexer": "ipython3",
   "version": "3.8.5"
  }
 },
 "nbformat": 4,
 "nbformat_minor": 4
}
